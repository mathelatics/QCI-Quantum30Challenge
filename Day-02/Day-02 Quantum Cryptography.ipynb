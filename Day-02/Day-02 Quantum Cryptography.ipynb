{
 "cells": [
  {
   "cell_type": "markdown",
   "metadata": {},
   "source": [
    "# Day-02 Quantum Cryptography - Modular Arithmetics and Historical Encription Algorithms\n",
    "**Learning Objectives**\n",
    "- Modular Arithmetics\n",
    "- Rings & Fields from Ring and Field Theory \n",
    "- Shift Cipher\n",
    "- Affine Cipher"
   ]
  },
  {
   "cell_type": "markdown",
   "metadata": {},
   "source": [
    "## 1. Modular Arithmetics\n",
    "Goal : Computation in a Finite sets.\n",
    "- Examples of finite sets in every day life ? Think about it. [Clock for time : 0-24 and circular i.e $y = x mod(24)$ it is the remainder operator(modular operator) ]\n",
    "\n",
    "Definition of Modular Operator :\n",
    "> *Let $a, r \\in \\mathbb{Z}$ and $m \\ge 0$ then we can write  $ a \\equiv r * mod(m) \\; \\forall \\; m \\in \\mathbb{Z}$* if m divides $a-r$ i.e $m | (a-r)$.\n",
    "\n",
    "- Example : a = 15 and m = 7 the find r using $15 = r * mod(7)$ i.e equal to 1."
   ]
  },
  {
   "cell_type": "markdown",
   "metadata": {},
   "source": []
  },
  {
   "cell_type": "markdown",
   "metadata": {},
   "source": []
  },
  {
   "cell_type": "markdown",
   "metadata": {},
   "source": []
  }
 ],
 "metadata": {
  "language_info": {
   "name": "python"
  },
  "orig_nbformat": 4
 },
 "nbformat": 4,
 "nbformat_minor": 2
}
